{
 "cells": [
  {
   "cell_type": "markdown",
   "id": "dda39346",
   "metadata": {},
   "source": [
    "# Chapter 2: Statistical Learning\n",
    "\n",
    "## 2.1 What is Statistical Learning?\n",
    "\n",
    "Inputs go by many names:\n",
    "    - Predictors\n",
    "    - Independent Variables\n",
    "    - Features\n",
    "    Denoted *X*\n",
    "Output variable:\n",
    "    - Response\n",
    "    - Dependent\n",
    "    Denoted $Y$\n",
    "\n",
    "Quantitative response Y and p different predictors X1,...,Xp such that the relationship can be written generally\n",
    "$$\n",
    "Y = f(X) + epsilon\n",
    "$$\n",
    "$f$ is a fixed but unknown function and epsilon is a random error term independent of $X$ with mean zero.\n",
    "\n",
    "Statsitcal. Learning is a set of approaches for estimating f\n",
    "\n",
    "### 2.1.1 Why Esitmate?\n",
    "\n",
    "Prediction and inference\n",
    "\n",
    "#### Prediction\n",
    "\n",
    "a set of X inputs are readily available but the output Y is not obtained with ease. \n",
    "The error term averaging to zero means we can predict $**Y**$ \n",
    "$$ \\hat{Y} = \\hat{f}(X) $$\n",
    "\n",
    "\\hat{f} is the setimate of f and is a black box and only concerned that it yields accurate \\hat{Y}, the resulting prediction for Y\n",
    "\n",
    "The accuracy of Y_hat aas a predicton for Y depends on two quantities: reducible error and irreducible error\n",
    "\n"
   ]
  }
 ],
 "metadata": {
  "language_info": {
   "name": "python"
  }
 },
 "nbformat": 4,
 "nbformat_minor": 5
}
