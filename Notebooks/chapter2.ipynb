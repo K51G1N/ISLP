{
 "cells": [
  {
   "cell_type": "markdown",
   "id": "dda39346",
   "metadata": {},
   "source": [
    "# Chapter 2: Statistical Learning\n",
    "\n",
    "## 2.1 What is Statistical Learning?\n",
    "\n",
    "Variables go by many names\n",
    "Inputs, $X$:\n",
    "\n",
    "- Predictors\n",
    "- Independent Variables\n",
    "- Features\n",
    "    \n",
    "Outputs $Y$:\n",
    "- Response\n",
    "- Dependent\n",
    "\n",
    "\n",
    "Quantitative response Y and p different predictors $X1,...,Xp$ such that the relationship can be written generally\n",
    "$$\n",
    "Y = f(X) + \\epsilon\n",
    "$$\n",
    "$f$ is a fixed but unknown function and epsilon, $\\epsilon$ , is a random error term independent of $X$ with mean zero.\n",
    "\n",
    "Statsitcal. Learning is a set of approaches for estimating $f$\n",
    "\n",
    "### 2.1.1 Why Estimate?\n",
    "\n",
    "Prediction and inference\n",
    "\n",
    "#### Prediction\n",
    "\n",
    "a set of $X$ inputs are readily available but the output $Y$ is not obtained with ease. \n",
    "The error term averaging to zero means we can predict $Y$ \n",
    "$$ \\hat{Y} = \\hat{f}(X) $$\n",
    "\n",
    "$\\hat{f}$ is the estimate of f and is a black box and only concerned that it yields accurate $\\hat{Y}$, the resulting prediction for $Y$\n",
    "\n",
    "The accuracy of $\\hat{Y}$ as a predicton for $Y$ depends on two quantities: reducible error and irreducible error\n",
    "$\\hat{f}$ will not be a perfect estimate of $f$. The inaccuracy will introduce some error which is reducible. It's reducible because we can potentially\n",
    "improve the accuracy of $\\hat{f}$ by using the most appropriate SL (Statistical Learning) technique to estimate $f$.\n",
    "$\\hat{Y}$ is a function of $\\epsilon$ which cannot be predicted. The variability of $\\epsilon$ affects the accuracy of the predictions. This is known as _irreducible error_.\n"
   ]
  }
 ],
 "metadata": {
  "language_info": {
   "name": "python"
  }
 },
 "nbformat": 4,
 "nbformat_minor": 5
}
